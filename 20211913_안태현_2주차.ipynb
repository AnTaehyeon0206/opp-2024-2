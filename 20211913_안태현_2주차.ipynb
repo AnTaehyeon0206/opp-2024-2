{
  "nbformat": 4,
  "nbformat_minor": 0,
  "metadata": {
    "colab": {
      "provenance": []
    },
    "kernelspec": {
      "name": "python3",
      "display_name": "Python 3"
    },
    "language_info": {
      "name": "python"
    }
  },
  "cells": [
    {
      "cell_type": "code",
      "source": [
        "# 예제 1\n",
        "class MyCollection:\n",
        "  def __getitem__(self, key):\n",
        "    return f\"Value for {key}\"\n",
        "\n",
        "collection = MyCollection()\n",
        "print(collection.__getitem__(3))\n",
        "print(collection[3])"
      ],
      "metadata": {
        "colab": {
          "base_uri": "https://localhost:8080/"
        },
        "id": "J5znmosiEyJ9",
        "outputId": "b2d5be3e-457c-419e-ee98-c1417825d552"
      },
      "execution_count": 9,
      "outputs": [
        {
          "output_type": "stream",
          "name": "stdout",
          "text": [
            "Value for 3\n",
            "Value for 3\n"
          ]
        }
      ]
    },
    {
      "cell_type": "code",
      "execution_count": 2,
      "metadata": {
        "id": "5TI5tgkUCHv9"
      },
      "outputs": [],
      "source": [
        "# 예제 1\n",
        "import collections\n",
        "\n",
        "Card = collections.namedtuple('Card', ['rank', 'suit'])\n",
        "# 튜플객체명 = collections.namedtuple('객체이름',['특성들'])\n",
        "\n",
        "class FrenchDeck:\n",
        "  ranks = [str(n) for n in range(2,11)] + list('JQKA') # 2~10, J, Q, K, A\n",
        "  suits = 'spades diamonds clubs hearts'.split()\n",
        "\n",
        "  def __init__(self):\n",
        "    self._cards = [Card(rank, suit) for suit in self.suits\n",
        "                   for rank in self.ranks]\n",
        "\n",
        "  def __len__(self):\n",
        "    return len(self._cards)\n",
        "\n",
        "  def __getitem__(self,position):\n",
        "    return self._cards[position]"
      ]
    },
    {
      "cell_type": "code",
      "source": [
        "# 예제 3\n",
        "beer_card = Card('7', 'diamonds')\n",
        "beer_card"
      ],
      "metadata": {
        "colab": {
          "base_uri": "https://localhost:8080/"
        },
        "id": "n5-9EYrrD6fX",
        "outputId": "960419a9-af3d-416f-e855-0e79575263e4"
      },
      "execution_count": 3,
      "outputs": [
        {
          "output_type": "execute_result",
          "data": {
            "text/plain": [
              "Card(rank='7', suit='diamonds')"
            ]
          },
          "metadata": {},
          "execution_count": 3
        }
      ]
    },
    {
      "cell_type": "code",
      "source": [
        "# 예제 4\n",
        "deck = FrenchDeck()\n",
        "print(f\"Ranks:{deck.ranks}\")\n",
        "print(f\"len:{len(deck)}\")"
      ],
      "metadata": {
        "colab": {
          "base_uri": "https://localhost:8080/"
        },
        "id": "JsntoFMJEFcG",
        "outputId": "a0b66e6e-3b56-4810-da96-c7c9fd2b4791"
      },
      "execution_count": 4,
      "outputs": [
        {
          "output_type": "stream",
          "name": "stdout",
          "text": [
            "Ranks:['2', '3', '4', '5', '6', '7', '8', '9', '10', 'J', 'Q', 'K', 'A']\n",
            "len:52\n"
          ]
        }
      ]
    },
    {
      "cell_type": "code",
      "source": [
        "# 예제 5\n",
        "print(deck[0])\n",
        "print(deck[-1])"
      ],
      "metadata": {
        "colab": {
          "base_uri": "https://localhost:8080/"
        },
        "id": "-RG12763EXFX",
        "outputId": "0306d2f2-41cb-4d52-b20b-99438f4ea836"
      },
      "execution_count": 5,
      "outputs": [
        {
          "output_type": "stream",
          "name": "stdout",
          "text": [
            "Card(rank='2', suit='spades')\n",
            "Card(rank='A', suit='hearts')\n"
          ]
        }
      ]
    },
    {
      "cell_type": "code",
      "source": [
        "# 예제 6\n",
        "from random import choice\n",
        "print(choice(deck))\n",
        "print(choice(deck))\n",
        "print(choice(deck))"
      ],
      "metadata": {
        "colab": {
          "base_uri": "https://localhost:8080/"
        },
        "id": "-0SnAb3wEcH2",
        "outputId": "e883b5c2-268a-4fa7-8f6b-61e9e8d0e47b"
      },
      "execution_count": 6,
      "outputs": [
        {
          "output_type": "stream",
          "name": "stdout",
          "text": [
            "Card(rank='6', suit='clubs')\n",
            "Card(rank='K', suit='spades')\n",
            "Card(rank='8', suit='spades')\n"
          ]
        }
      ]
    },
    {
      "cell_type": "code",
      "source": [
        "# 예제 7\n",
        "deck[:3]"
      ],
      "metadata": {
        "colab": {
          "base_uri": "https://localhost:8080/"
        },
        "id": "AHfn_KJxEoie",
        "outputId": "dc415d5e-2642-4131-b2b7-4b76bd35b3ea"
      },
      "execution_count": 7,
      "outputs": [
        {
          "output_type": "execute_result",
          "data": {
            "text/plain": [
              "[Card(rank='2', suit='spades'),\n",
              " Card(rank='3', suit='spades'),\n",
              " Card(rank='4', suit='spades')]"
            ]
          },
          "metadata": {},
          "execution_count": 7
        }
      ]
    },
    {
      "cell_type": "code",
      "source": [
        "# 예제 8\n",
        "deck[12::13]"
      ],
      "metadata": {
        "colab": {
          "base_uri": "https://localhost:8080/"
        },
        "id": "dLEpNMg1Ewue",
        "outputId": "20589dc4-9f37-4205-adaf-e9ea1e765989"
      },
      "execution_count": 8,
      "outputs": [
        {
          "output_type": "execute_result",
          "data": {
            "text/plain": [
              "[Card(rank='A', suit='spades'),\n",
              " Card(rank='A', suit='diamonds'),\n",
              " Card(rank='A', suit='clubs'),\n",
              " Card(rank='A', suit='hearts')]"
            ]
          },
          "metadata": {},
          "execution_count": 8
        }
      ]
    },
    {
      "cell_type": "code",
      "source": [
        "# 예제 9\n",
        "for card in deck:\n",
        "  print(card)"
      ],
      "metadata": {
        "colab": {
          "base_uri": "https://localhost:8080/"
        },
        "id": "vQMecLqFFtE_",
        "outputId": "0487daf6-f0fa-4796-abd6-4132800cc19d"
      },
      "execution_count": 10,
      "outputs": [
        {
          "output_type": "stream",
          "name": "stdout",
          "text": [
            "Card(rank='2', suit='spades')\n",
            "Card(rank='3', suit='spades')\n",
            "Card(rank='4', suit='spades')\n",
            "Card(rank='5', suit='spades')\n",
            "Card(rank='6', suit='spades')\n",
            "Card(rank='7', suit='spades')\n",
            "Card(rank='8', suit='spades')\n",
            "Card(rank='9', suit='spades')\n",
            "Card(rank='10', suit='spades')\n",
            "Card(rank='J', suit='spades')\n",
            "Card(rank='Q', suit='spades')\n",
            "Card(rank='K', suit='spades')\n",
            "Card(rank='A', suit='spades')\n",
            "Card(rank='2', suit='diamonds')\n",
            "Card(rank='3', suit='diamonds')\n",
            "Card(rank='4', suit='diamonds')\n",
            "Card(rank='5', suit='diamonds')\n",
            "Card(rank='6', suit='diamonds')\n",
            "Card(rank='7', suit='diamonds')\n",
            "Card(rank='8', suit='diamonds')\n",
            "Card(rank='9', suit='diamonds')\n",
            "Card(rank='10', suit='diamonds')\n",
            "Card(rank='J', suit='diamonds')\n",
            "Card(rank='Q', suit='diamonds')\n",
            "Card(rank='K', suit='diamonds')\n",
            "Card(rank='A', suit='diamonds')\n",
            "Card(rank='2', suit='clubs')\n",
            "Card(rank='3', suit='clubs')\n",
            "Card(rank='4', suit='clubs')\n",
            "Card(rank='5', suit='clubs')\n",
            "Card(rank='6', suit='clubs')\n",
            "Card(rank='7', suit='clubs')\n",
            "Card(rank='8', suit='clubs')\n",
            "Card(rank='9', suit='clubs')\n",
            "Card(rank='10', suit='clubs')\n",
            "Card(rank='J', suit='clubs')\n",
            "Card(rank='Q', suit='clubs')\n",
            "Card(rank='K', suit='clubs')\n",
            "Card(rank='A', suit='clubs')\n",
            "Card(rank='2', suit='hearts')\n",
            "Card(rank='3', suit='hearts')\n",
            "Card(rank='4', suit='hearts')\n",
            "Card(rank='5', suit='hearts')\n",
            "Card(rank='6', suit='hearts')\n",
            "Card(rank='7', suit='hearts')\n",
            "Card(rank='8', suit='hearts')\n",
            "Card(rank='9', suit='hearts')\n",
            "Card(rank='10', suit='hearts')\n",
            "Card(rank='J', suit='hearts')\n",
            "Card(rank='Q', suit='hearts')\n",
            "Card(rank='K', suit='hearts')\n",
            "Card(rank='A', suit='hearts')\n"
          ]
        }
      ]
    },
    {
      "cell_type": "code",
      "source": [
        "# 예제 10\n",
        "for card in reversed(deck):\n",
        "  print(card)"
      ],
      "metadata": {
        "colab": {
          "base_uri": "https://localhost:8080/"
        },
        "id": "kYHbkLDQILSv",
        "outputId": "10f6b0b7-df07-495f-bec0-28e3723e0484"
      },
      "execution_count": 26,
      "outputs": [
        {
          "output_type": "stream",
          "name": "stdout",
          "text": [
            "Card(rank='A', suit='hearts')\n",
            "Card(rank='K', suit='hearts')\n",
            "Card(rank='Q', suit='hearts')\n",
            "Card(rank='J', suit='hearts')\n",
            "Card(rank='10', suit='hearts')\n",
            "Card(rank='9', suit='hearts')\n",
            "Card(rank='8', suit='hearts')\n",
            "Card(rank='7', suit='hearts')\n",
            "Card(rank='6', suit='hearts')\n",
            "Card(rank='5', suit='hearts')\n",
            "Card(rank='4', suit='hearts')\n",
            "Card(rank='3', suit='hearts')\n",
            "Card(rank='2', suit='hearts')\n",
            "Card(rank='A', suit='clubs')\n",
            "Card(rank='K', suit='clubs')\n",
            "Card(rank='Q', suit='clubs')\n",
            "Card(rank='J', suit='clubs')\n",
            "Card(rank='10', suit='clubs')\n",
            "Card(rank='9', suit='clubs')\n",
            "Card(rank='8', suit='clubs')\n",
            "Card(rank='7', suit='clubs')\n",
            "Card(rank='6', suit='clubs')\n",
            "Card(rank='5', suit='clubs')\n",
            "Card(rank='4', suit='clubs')\n",
            "Card(rank='3', suit='clubs')\n",
            "Card(rank='2', suit='clubs')\n",
            "Card(rank='A', suit='diamonds')\n",
            "Card(rank='K', suit='diamonds')\n",
            "Card(rank='Q', suit='diamonds')\n",
            "Card(rank='J', suit='diamonds')\n",
            "Card(rank='10', suit='diamonds')\n",
            "Card(rank='9', suit='diamonds')\n",
            "Card(rank='8', suit='diamonds')\n",
            "Card(rank='7', suit='diamonds')\n",
            "Card(rank='6', suit='diamonds')\n",
            "Card(rank='5', suit='diamonds')\n",
            "Card(rank='4', suit='diamonds')\n",
            "Card(rank='3', suit='diamonds')\n",
            "Card(rank='2', suit='diamonds')\n",
            "Card(rank='A', suit='spades')\n",
            "Card(rank='K', suit='spades')\n",
            "Card(rank='Q', suit='spades')\n",
            "Card(rank='J', suit='spades')\n",
            "Card(rank='10', suit='spades')\n",
            "Card(rank='9', suit='spades')\n",
            "Card(rank='8', suit='spades')\n",
            "Card(rank='7', suit='spades')\n",
            "Card(rank='6', suit='spades')\n",
            "Card(rank='5', suit='spades')\n",
            "Card(rank='4', suit='spades')\n",
            "Card(rank='3', suit='spades')\n",
            "Card(rank='2', suit='spades')\n"
          ]
        }
      ]
    },
    {
      "cell_type": "code",
      "source": [
        "# 예제 11\n",
        "suit_values = dict(spades=3, hearts=2, diamonds=1, clubs=0)\n",
        "\n",
        "def spades_high(card):\n",
        "  rank_value = FrenchDeck.ranks.index(card.rank)\n",
        "  return rank_value * len(suit_values) + suit_values[card.suit]"
      ],
      "metadata": {
        "id": "sE6Hs7eaGG32"
      },
      "execution_count": 23,
      "outputs": []
    },
    {
      "cell_type": "code",
      "source": [
        "spades_high(beer_card)"
      ],
      "metadata": {
        "colab": {
          "base_uri": "https://localhost:8080/"
        },
        "id": "nHliZh-iF-iu",
        "outputId": "52be371b-039d-424d-b887-1fdca439021f"
      },
      "execution_count": 22,
      "outputs": [
        {
          "output_type": "execute_result",
          "data": {
            "text/plain": [
              "21"
            ]
          },
          "metadata": {},
          "execution_count": 22
        }
      ]
    },
    {
      "cell_type": "code",
      "source": [
        "for card in sorted(deck, key=spades_high):\n",
        "  print('The rank of {} is {}.'.format(card, spades_high(card)))"
      ],
      "metadata": {
        "colab": {
          "base_uri": "https://localhost:8080/"
        },
        "id": "w61wTxo0H4H2",
        "outputId": "91176201-88a8-4862-e8a4-6aa2c43dcb8c"
      },
      "execution_count": 25,
      "outputs": [
        {
          "output_type": "stream",
          "name": "stdout",
          "text": [
            "The rank of Card(rank='2', suit='clubs') is 0.\n",
            "The rank of Card(rank='2', suit='diamonds') is 1.\n",
            "The rank of Card(rank='2', suit='hearts') is 2.\n",
            "The rank of Card(rank='2', suit='spades') is 3.\n",
            "The rank of Card(rank='3', suit='clubs') is 4.\n",
            "The rank of Card(rank='3', suit='diamonds') is 5.\n",
            "The rank of Card(rank='3', suit='hearts') is 6.\n",
            "The rank of Card(rank='3', suit='spades') is 7.\n",
            "The rank of Card(rank='4', suit='clubs') is 8.\n",
            "The rank of Card(rank='4', suit='diamonds') is 9.\n",
            "The rank of Card(rank='4', suit='hearts') is 10.\n",
            "The rank of Card(rank='4', suit='spades') is 11.\n",
            "The rank of Card(rank='5', suit='clubs') is 12.\n",
            "The rank of Card(rank='5', suit='diamonds') is 13.\n",
            "The rank of Card(rank='5', suit='hearts') is 14.\n",
            "The rank of Card(rank='5', suit='spades') is 15.\n",
            "The rank of Card(rank='6', suit='clubs') is 16.\n",
            "The rank of Card(rank='6', suit='diamonds') is 17.\n",
            "The rank of Card(rank='6', suit='hearts') is 18.\n",
            "The rank of Card(rank='6', suit='spades') is 19.\n",
            "The rank of Card(rank='7', suit='clubs') is 20.\n",
            "The rank of Card(rank='7', suit='diamonds') is 21.\n",
            "The rank of Card(rank='7', suit='hearts') is 22.\n",
            "The rank of Card(rank='7', suit='spades') is 23.\n",
            "The rank of Card(rank='8', suit='clubs') is 24.\n",
            "The rank of Card(rank='8', suit='diamonds') is 25.\n",
            "The rank of Card(rank='8', suit='hearts') is 26.\n",
            "The rank of Card(rank='8', suit='spades') is 27.\n",
            "The rank of Card(rank='9', suit='clubs') is 28.\n",
            "The rank of Card(rank='9', suit='diamonds') is 29.\n",
            "The rank of Card(rank='9', suit='hearts') is 30.\n",
            "The rank of Card(rank='9', suit='spades') is 31.\n",
            "The rank of Card(rank='10', suit='clubs') is 32.\n",
            "The rank of Card(rank='10', suit='diamonds') is 33.\n",
            "The rank of Card(rank='10', suit='hearts') is 34.\n",
            "The rank of Card(rank='10', suit='spades') is 35.\n",
            "The rank of Card(rank='J', suit='clubs') is 36.\n",
            "The rank of Card(rank='J', suit='diamonds') is 37.\n",
            "The rank of Card(rank='J', suit='hearts') is 38.\n",
            "The rank of Card(rank='J', suit='spades') is 39.\n",
            "The rank of Card(rank='Q', suit='clubs') is 40.\n",
            "The rank of Card(rank='Q', suit='diamonds') is 41.\n",
            "The rank of Card(rank='Q', suit='hearts') is 42.\n",
            "The rank of Card(rank='Q', suit='spades') is 43.\n",
            "The rank of Card(rank='K', suit='clubs') is 44.\n",
            "The rank of Card(rank='K', suit='diamonds') is 45.\n",
            "The rank of Card(rank='K', suit='hearts') is 46.\n",
            "The rank of Card(rank='K', suit='spades') is 47.\n",
            "The rank of Card(rank='A', suit='clubs') is 48.\n",
            "The rank of Card(rank='A', suit='diamonds') is 49.\n",
            "The rank of Card(rank='A', suit='hearts') is 50.\n",
            "The rank of Card(rank='A', suit='spades') is 51.\n"
          ]
        }
      ]
    },
    {
      "cell_type": "code",
      "source": [
        "# 예제 12\n",
        "class Vector:\n",
        "  def __init__(self, x=0, y=0):\n",
        "    self.x = x\n",
        "    self.y = y\n",
        "\n",
        "  def __repr__(self):\n",
        "    return 'Vector(%r,%r)' % (self.x, self.y)\n",
        "\n",
        "  def __abs__(self):\n",
        "    return hypot(self.x, self.y)\n",
        "\n",
        "  def __bool__(self):\n",
        "    return bool(abs(self))\n",
        "\n",
        "  def __add__(self, other):\n",
        "    x = self.x + other.x\n",
        "    y = self.y + other.y\n",
        "    return Vector(x,y)\n",
        "\n",
        "  def __mul__(self, scalar):\n",
        "    return Vector(self.x*scalar, self.y*scalar)\n"
      ],
      "metadata": {
        "id": "HzFX_sArISW_"
      },
      "execution_count": 30,
      "outputs": []
    },
    {
      "cell_type": "code",
      "source": [
        "# 예제 13\n",
        "v"
      ],
      "metadata": {
        "colab": {
          "base_uri": "https://localhost:8080/"
        },
        "id": "pel9S2wPJsM5",
        "outputId": "71487cd0-5242-4703-d7a9-53d2c7fc22cb"
      },
      "execution_count": 31,
      "outputs": [
        {
          "output_type": "execute_result",
          "data": {
            "text/plain": [
              "Vector(3,4)"
            ]
          },
          "metadata": {},
          "execution_count": 31
        }
      ]
    },
    {
      "cell_type": "code",
      "source": [
        "# 예제 14\n",
        "test = Test()\n",
        "test, str(test)"
      ],
      "metadata": {
        "colab": {
          "base_uri": "https://localhost:8080/",
          "height": 184
        },
        "id": "4zUqFnUeKs91",
        "outputId": "edde5f12-623e-4f3b-80be-424c3636a52c"
      },
      "execution_count": 32,
      "outputs": [
        {
          "output_type": "error",
          "ename": "NameError",
          "evalue": "name 'Test' is not defined",
          "traceback": [
            "\u001b[0;31m---------------------------------------------------------------------------\u001b[0m",
            "\u001b[0;31mNameError\u001b[0m                                 Traceback (most recent call last)",
            "\u001b[0;32m<ipython-input-32-c9a18a55fce0>\u001b[0m in \u001b[0;36m<cell line: 2>\u001b[0;34m()\u001b[0m\n\u001b[1;32m      1\u001b[0m \u001b[0;31m# 예제 14\u001b[0m\u001b[0;34m\u001b[0m\u001b[0;34m\u001b[0m\u001b[0m\n\u001b[0;32m----> 2\u001b[0;31m \u001b[0mtest\u001b[0m \u001b[0;34m=\u001b[0m \u001b[0mTest\u001b[0m\u001b[0;34m(\u001b[0m\u001b[0;34m)\u001b[0m\u001b[0;34m\u001b[0m\u001b[0;34m\u001b[0m\u001b[0m\n\u001b[0m\u001b[1;32m      3\u001b[0m \u001b[0mtest\u001b[0m\u001b[0;34m,\u001b[0m \u001b[0mstr\u001b[0m\u001b[0;34m(\u001b[0m\u001b[0mtest\u001b[0m\u001b[0;34m)\u001b[0m\u001b[0;34m\u001b[0m\u001b[0;34m\u001b[0m\u001b[0m\n",
            "\u001b[0;31mNameError\u001b[0m: name 'Test' is not defined"
          ]
        }
      ]
    },
    {
      "cell_type": "code",
      "source": [
        "# 예제 15\n",
        "print(str(test))\n"
      ],
      "metadata": {
        "colab": {
          "base_uri": "https://localhost:8080/",
          "height": 166
        },
        "id": "HKyvLA8LLtit",
        "outputId": "556de4d5-c08f-43cf-ecbd-903142ee184c"
      },
      "execution_count": 33,
      "outputs": [
        {
          "output_type": "error",
          "ename": "NameError",
          "evalue": "name 'test' is not defined",
          "traceback": [
            "\u001b[0;31m---------------------------------------------------------------------------\u001b[0m",
            "\u001b[0;31mNameError\u001b[0m                                 Traceback (most recent call last)",
            "\u001b[0;32m<ipython-input-33-1c116f63619d>\u001b[0m in \u001b[0;36m<cell line: 2>\u001b[0;34m()\u001b[0m\n\u001b[1;32m      1\u001b[0m \u001b[0;31m# 예제 15\u001b[0m\u001b[0;34m\u001b[0m\u001b[0;34m\u001b[0m\u001b[0m\n\u001b[0;32m----> 2\u001b[0;31m \u001b[0mprint\u001b[0m\u001b[0;34m(\u001b[0m\u001b[0mstr\u001b[0m\u001b[0;34m(\u001b[0m\u001b[0mtest\u001b[0m\u001b[0;34m)\u001b[0m\u001b[0;34m)\u001b[0m\u001b[0;34m\u001b[0m\u001b[0;34m\u001b[0m\u001b[0m\n\u001b[0m",
            "\u001b[0;31mNameError\u001b[0m: name 'test' is not defined"
          ]
        }
      ]
    }
  ]
}